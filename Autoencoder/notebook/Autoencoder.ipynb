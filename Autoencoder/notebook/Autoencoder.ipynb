{
  "nbformat": 4,
  "nbformat_minor": 0,
  "metadata": {
    "colab": {
      "name": "Autoencoder.ipynb",
      "provenance": [],
      "collapsed_sections": []
    },
    "kernelspec": {
      "name": "python3",
      "display_name": "Python 3"
    },
    "accelerator": "GPU"
  },
  "cells": [
    {
      "cell_type": "markdown",
      "metadata": {
        "id": "BAbo6YFI4G3v"
      },
      "source": [
        "\n",
        "## imports"
      ]
    },
    {
      "cell_type": "code",
      "metadata": {
        "colab": {
          "base_uri": "https://localhost:8080/"
        },
        "id": "bS1hwh-Q4AgO",
        "outputId": "dd4b9cf9-f0d6-46fd-e30f-71f9b981ae6b"
      },
      "source": [
        "import os\n",
        "import struct\n",
        "import numpy as np\n",
        "import matplotlib.pyplot as plt\n",
        "%matplotlib inline\n",
        "\n",
        "import tensorflow as tf\n",
        "import tensorflow.keras as keras\n",
        "from tensorflow.keras import Sequential, optimizers\n",
        "from tensorflow.keras.layers import Input, Conv2D, BatchNormalization, MaxPooling2D, UpSampling2D, LeakyReLU\n",
        "from tensorflow.keras.models import Model\n",
        "from tensorflow.keras.callbacks import ReduceLROnPlateau\n",
        "from sklearn.model_selection import train_test_split\n",
        "\n",
        "device_name = tf.test.gpu_device_name()\n",
        "if device_name != \"/device:GPU:0\":\n",
        "  raise SystemError(\"GPU device not found\")\n",
        "print(\"Found GPU at: {}\".format(device_name))"
      ],
      "execution_count": null,
      "outputs": [
        {
          "output_type": "stream",
          "text": [
            "Found GPU at: /device:GPU:0\n"
          ],
          "name": "stdout"
        }
      ]
    },
    {
      "cell_type": "markdown",
      "metadata": {
        "id": "mIF1o1kR3gOg"
      },
      "source": [
        "## Initialize here input variables"
      ]
    },
    {
      "cell_type": "code",
      "metadata": {
        "id": "3lSnh-VcIlzX"
      },
      "source": [
        "configurations = []"
      ],
      "execution_count": null,
      "outputs": []
    },
    {
      "cell_type": "code",
      "metadata": {
        "id": "HCm0m2x6_Im6"
      },
      "source": [
        "\n",
        "# 1\n",
        "conv_layers = 3\n",
        "kernel_sizes = [(7, 7), (7, 7), (5, 5)]\n",
        "filters = [64, 32, 4]\n",
        "epochs = 15\n",
        "batch_size = 16\n",
        "third_maxpool = True\n",
        "\n",
        "conf = conv_layers, kernel_sizes, filters, epochs, batch_size, third_maxpool\n",
        "configurations.append(conf)\n",
        "# 2\n",
        "conv_layers = 3\n",
        "kernel_sizes = [(7, 7), (7, 7), (5, 5)]\n",
        "filters = [64, 32, 2]\n",
        "epochs = 15\n",
        "batch_size = 16\n",
        "third_maxpool = True\n",
        "\n",
        "conf = conv_layers, kernel_sizes, filters, epochs, batch_size, third_maxpool\n",
        "configurations.append(conf)\n",
        "\n",
        "# 3\n",
        "conv_layers = 3\n",
        "kernel_sizes = [(7, 7), (5, 5), (3, 3)]\n",
        "filters = [128, 64, 8]\n",
        "epochs = 15\n",
        "batch_size = 16\n",
        "third_maxpool = True\n",
        "\n",
        "conf = conv_layers, kernel_sizes, filters, epochs, batch_size, third_maxpool\n",
        "configurations.append(conf)\n",
        "\n",
        "\n",
        "# 4\n",
        "conv_layers = 3\n",
        "kernel_sizes = [(7, 7), (5, 5), (3, 3)]\n",
        "filters = [120, 60, 10]\n",
        "epochs = 15\n",
        "batch_size = 16\n",
        "third_maxpool = True\n",
        "\n",
        "conf = conv_layers, kernel_sizes, filters, epochs, batch_size, third_maxpool\n",
        "configurations.append(conf)"
      ],
      "execution_count": null,
      "outputs": []
    },
    {
      "cell_type": "markdown",
      "metadata": {
        "id": "0evH9T1k4Nsu"
      },
      "source": [
        "## load the Dataset"
      ]
    },
    {
      "cell_type": "code",
      "metadata": {
        "id": "bY3XdwBN5heP"
      },
      "source": [
        "def parse_dataset(filepath):\n",
        "    \"\"\" function used to parse the data of a dataset \"\"\"\n",
        "\n",
        "    # open the dataset\n",
        "    with open(filepath, \"rb\") as dataset:\n",
        "        # read the magic number and the number of images\n",
        "        magic_number, number_of_images = struct.unpack(\">II\", dataset.read(8))\n",
        "        # read the number of rows and number of columns per image\n",
        "        rows, columns = struct.unpack(\">II\", dataset.read(8))\n",
        "        # now read the rest of the file using numpy.fromfile()\n",
        "        images = np.fromfile(dataset, dtype=np.dtype(np.uint8).newbyteorder(\">\"))\n",
        "        # reshape so that the final shape is (number_of_images, rows, columns)\n",
        "        images = images.reshape((number_of_images, rows, columns))\n",
        "\n",
        "    # return the images\n",
        "    return images\n",
        "\n",
        "\n",
        "def parse_labelset(filepath):\n",
        "    \"\"\" function used to parse the data of a labelset \"\"\"\n",
        "\n",
        "    # open the file\n",
        "    with open(filepath, \"rb\") as labelset:\n",
        "        # read the magic number and the number of labels\n",
        "        magic_number, number_of_labels = struct.unpack(\">II\", labelset.read(8))\n",
        "        # now read the rest of the file using numpy.fromfile()\n",
        "        labels = np.fromfile(labelset, dtype=np.dtype(np.uint8).newbyteorder(\">\"))\n",
        "\n",
        "    # return the labels\n",
        "    return labels"
      ],
      "execution_count": null,
      "outputs": []
    },
    {
      "cell_type": "code",
      "metadata": {
        "colab": {
          "base_uri": "https://localhost:8080/"
        },
        "id": "7abR8cfOUQDy",
        "outputId": "8ab2d4ae-3d27-4340-a0d7-f75385749158"
      },
      "source": [
        "from google.colab import drive\n",
        "drive.mount('/content/drive')"
      ],
      "execution_count": null,
      "outputs": [
        {
          "output_type": "stream",
          "text": [
            "Mounted at /content/drive\n"
          ],
          "name": "stdout"
        }
      ]
    },
    {
      "cell_type": "code",
      "metadata": {
        "id": "UZ2zjJsr4PAn",
        "colab": {
          "base_uri": "https://localhost:8080/"
        },
        "outputId": "aa415846-7f85-42d6-9959-822645ba5eaa"
      },
      "source": [
        "# EDIT THE PATHS OF THE DATASETS HERE\n",
        "train_images_path = os.path.join(\".\", \"drive\", \"My Drive\", \"Uni\", \"Project\", \"training.dat\")\n",
        "train_labels_path = os.path.join(\".\", \"drive\", \"My Drive\", \"Uni\", \"Project\", \"training_labels.dat\")\n",
        "\n",
        "test_images_path = os.path.join(\".\", \"drive\", \"My Drive\", \"Uni\", \"Project\", \"test.dat\")\n",
        "test_labels_path = os.path.join(\".\", \"drive\", \"My Drive\", \"Uni\", \"Project\", \"test_labels.dat\")\n",
        "\n",
        "\n",
        "# LOAD THE DATASETS HERE\n",
        "X_train = parse_dataset(train_images_path)\n",
        "y_train = parse_labelset(train_labels_path)\n",
        "\n",
        "X_test = parse_dataset(test_images_path)\n",
        "y_test = parse_labelset(test_labels_path)\n",
        "\n",
        "# GET USEFUL VARIABLES\n",
        "rows = X_train.shape[1]\n",
        "columns = X_train.shape[2]\n",
        "\n",
        "# GET VALIDATION DATASET FROM TRAINING SET\n",
        "X_train, X_val, y_train, y_val = train_test_split(X_train, y_train, test_size=0.15, random_state=13, shuffle=True)\n",
        "\n",
        "# RESHAPE SO THAT THE FINAL SHAPE IS (number_of_images, rows, columns, 1)\n",
        "X_train = X_train.reshape(-1, rows, columns, 1)\n",
        "X_val = X_val.reshape(-1, rows, columns, 1)\n",
        "X_test = X_test.reshape(-1, rows, columns, 1)\n",
        "\n",
        "# SCALE INPUT\n",
        "X_train = X_train / 255.\n",
        "X_val = X_val / 255.\n",
        "X_test = X_test / 255.\n",
        "\n",
        "\n",
        "# PRINTS TO MAKE SURE\n",
        "print(\"X_train.shape = {}\".format(X_train.shape))\n",
        "print(\"y_train.shape = {}\".format(y_train.shape))\n",
        "print()\n",
        "print(\"X_val.shape = {}\".format(X_val.shape))\n",
        "print(\"y_val.shape = {}\".format(y_val.shape))\n",
        "print()\n",
        "print(\"X_test.shape = {}\".format(X_test.shape))\n",
        "print(\"y_test.shape = {}\".format(y_test.shape))"
      ],
      "execution_count": null,
      "outputs": [
        {
          "output_type": "stream",
          "text": [
            "X_train.shape = (51000, 28, 28, 1)\n",
            "y_train.shape = (51000,)\n",
            "\n",
            "X_val.shape = (9000, 28, 28, 1)\n",
            "y_val.shape = (9000,)\n",
            "\n",
            "X_test.shape = (10000, 28, 28, 1)\n",
            "y_test.shape = (10000,)\n"
          ],
          "name": "stdout"
        }
      ]
    },
    {
      "cell_type": "markdown",
      "metadata": {
        "id": "gnnBHqHC-yAC"
      },
      "source": [
        "## print utilities"
      ]
    },
    {
      "cell_type": "code",
      "metadata": {
        "id": "SdoVf6y-9f1B"
      },
      "source": [
        "def print_image(image, rows, columns):\n",
        "    \"\"\" function used to print an image to the console \"\"\"\n",
        "\n",
        "    # for each row of the image\n",
        "    for i in range(rows):\n",
        "        # for each column\n",
        "        for j in range(columns):\n",
        "            # print the value at the coordinate (i, j) if it is not 0\n",
        "            if image[i, j] != 0:\n",
        "                print(\"{:.3f}\".format(image[i, j, 0]), end=\"\")\n",
        "            else:\n",
        "                print(\"   \", end=\"\")\n",
        "        # print a newline since the row has finished\n",
        "        print()\n",
        "    print()\n",
        "\n",
        "\n",
        "def plot_image(image):\n",
        "    \"\"\" fuction used to plot an image using matplotlib \"\"\"\n",
        "\n",
        "    # plot and show the image\n",
        "    plt.imshow(image, cmap=\"gray\")\n",
        "    plt.show()"
      ],
      "execution_count": null,
      "outputs": []
    },
    {
      "cell_type": "code",
      "metadata": {
        "colab": {
          "base_uri": "https://localhost:8080/",
          "height": 265
        },
        "id": "7C_li9vc-271",
        "outputId": "a909aded-4547-4640-b045-e00a54e87f2a"
      },
      "source": [
        "plot_image(X_train[69, :, :, 0])"
      ],
      "execution_count": null,
      "outputs": [
        {
          "output_type": "display_data",
          "data": {
            "image/png": "[encoded data removed]",
            "text/plain": [
              "<Figure size 432x288 with 1 Axes>"
            ]
          },
          "metadata": {
            "tags": [],
            "needs_background": "light"
          }
        }
      ]
    },
    {
      "cell_type": "markdown",
      "metadata": {
        "id": "DsUhhRNzS37u"
      },
      "source": [
        "# Autoencoder"
      ]
    },
    {
      "cell_type": "markdown",
      "metadata": {
        "id": "vlBQf0HV319f"
      },
      "source": [
        "## functions to create autoencoder"
      ]
    },
    {
      "cell_type": "code",
      "metadata": {
        "id": "9s9JhumS3zzm"
      },
      "source": [
        "def create_encoder(rows, columns, conv_layers, kernel_sizes, filters, use_third_max_pooling=True,\n",
        "                   use_leaky_relu=False, leaky_relu_alpha=0.15):\n",
        "    \"\"\"\n",
        "    Function used to create the encoder part of the autoencoder. The architecture follows the\n",
        "    following rules:\n",
        "\n",
        "    1) Every Convolutional Layer is followed by a Batch Batch Normalization.\n",
        "\n",
        "    2) The First 3 Convolutional Layers also have a Max Pooling at the end. The first 2 Max Pooling\n",
        "       layers have a pool size of (2, 2), while the third (if used) has a pool size of (7, 7). If\n",
        "       less than 3 Convolutional Layers are available, then fewer Max Pooling layers are used.\n",
        "\n",
        "    3) The activation function used in the Convolutional Layers is ReLU, but it can be changed to\n",
        "       using Leaky ReLU just by setting the parameter \"use_leaky_relu\" to True and picking an alpha.\n",
        "\n",
        "    4) Padding in Convolutions is always \"same\", that is, the output image from the convolution has\n",
        "       the same shape as the input. Only the Max Pooling layers reduce the dimension of the images.\n",
        "    \"\"\"\n",
        "\n",
        "    # define the input\n",
        "    input = Input(shape=(rows, columns, 1))\n",
        "    x = input\n",
        "\n",
        "    # place the Convolutional-BatchNormalization-[MaxPooling] sets of layers\n",
        "    for layer in range(conv_layers):\n",
        "\n",
        "        # determine whether to use ReLU or Leaky ReLU\n",
        "        if not use_leaky_relu:\n",
        "            x = Conv2D(filters=filters[layer], kernel_size=kernel_sizes[layer], activation=\"relu\",\n",
        "                       padding=\"same\")(x)\n",
        "        else:\n",
        "            x = Conv2D(filters=filters[layer], kernel_size=kernel_sizes[layer], activation=\"linear\",\n",
        "                       padding=\"same\")(x)\n",
        "            x = LeakyReLU(alpha=leaky_relu_alpha)(x)\n",
        "\n",
        "        # perform batch normalization\n",
        "        x = BatchNormalization()(x)\n",
        "\n",
        "        \"\"\"\n",
        "        # second convolution in the same \"set\" of layers\n",
        "        if not use_leaky_relu:\n",
        "            x = Conv2D(filters=filters[layer], kernel_size=kernel_sizes[layer], activation=\"relu\",\n",
        "                       padding=\"same\")(x)\n",
        "        else:\n",
        "            x = Conv2D(filters=filters[layer], kernel_size=kernel_sizes[layer], activation=\"linear\",\n",
        "                       padding=\"same\")(x)\n",
        "            x = LeakyReLU(alpha=leaky_relu_alpha)(x)\n",
        "\n",
        "        # second batch normalization in the same \"set\" of layers\n",
        "        x = BatchNormalization()(x)\n",
        "        \"\"\"\n",
        "\n",
        "        # if we are placing a the 3rd layer and MaxPooling should be placed, do it\n",
        "        if layer == 2 and use_third_max_pooling:\n",
        "            x = MaxPooling2D(pool_size=(7, 7))(x)\n",
        "        # if we are in the placing of the first 2 layers, place also a MaxPooling\n",
        "        if layer < 2:\n",
        "            x = MaxPooling2D(pool_size=(2, 2))(x)\n",
        "\n",
        "    # create the encoder part and return it\n",
        "    encoder = Model(input, x, name=\"encoder\")\n",
        "    return encoder\n",
        "\n",
        "\n",
        "def create_decoder(rows, columns, conv_layers, kernel_sizes, filters, use_third_max_pooling=True,\n",
        "                   use_leaky_relu=False, leaky_relu_alpha=0.15):\n",
        "    \"\"\"\n",
        "    Function used to create the decoder part of the Autoencoder. The architecture is basically the\n",
        "    \"mirrored\" architecture of the encoder.\n",
        "    \"\"\"\n",
        "\n",
        "    # define the input\n",
        "    factor = min(conv_layers, 2) * 2\n",
        "    if conv_layers >= 3 and use_third_max_pooling:\n",
        "        factor *= 7\n",
        "    input_rows = rows // factor\n",
        "    input_columns = columns // factor\n",
        "    input = Input(shape=(input_rows, input_columns, filters[-1]))\n",
        "    x = input\n",
        "\n",
        "    # place the Convolutional-BatchNormalization-[MaxPooling] sets of layers in a mirrored way\n",
        "    last_layer = len(filters) - 1\n",
        "    for layer in range(last_layer, -1, -1):\n",
        "\n",
        "        # determine whether to use Leaky ReLU or normal ReLU\n",
        "        if not use_leaky_relu:\n",
        "            x = Conv2D(filters=filters[layer], kernel_size=kernel_sizes[layer], activation=\"relu\",\n",
        "                       padding=\"same\")(x)\n",
        "        else:\n",
        "            x = Conv2D(filters=filters[-1], kernel_size=kernel_sizes[-1], activation=\"linear\",\n",
        "                       padding=\"same\")(x)\n",
        "            x = LeakyReLU(alpha=leaky_relu_alpha)(x)\n",
        "\n",
        "        # add batch normalization\n",
        "        x = BatchNormalization()(x)\n",
        "\n",
        "        \"\"\"\n",
        "        # second deconvolution in the same \"set\" of layers\n",
        "        if not use_leaky_relu:\n",
        "            x = Conv2D(filters=filters[layer], kernel_size=kernel_sizes[layer], activation=\"relu\",\n",
        "                       padding=\"same\")(x)\n",
        "        else:\n",
        "            x = Conv2D(filters=filters[-1], kernel_size=kernel_sizes[-1], activation=\"linear\",\n",
        "                       padding=\"same\")(input)\n",
        "            x = LeakyReLU(alpha=leaky_relu_alpha)(x)\n",
        "\n",
        "        # second batch normalization in the same \"set\" of layers\n",
        "        x = BatchNormalization()(x)\n",
        "        \"\"\"\n",
        "\n",
        "        # if we are in the third layer and a 3rd Max Pooling was placed, place an UpSampling\n",
        "        if layer == 2 and use_third_max_pooling:\n",
        "            x = UpSampling2D(size=(7, 7))(x)\n",
        "        # if we are in the first 2 layers, place an UpSampling\n",
        "        if layer < 2:\n",
        "            x = UpSampling2D(size=(2, 2))(x)\n",
        "\n",
        "    # do the final convolution to convert the image to the normal shape\n",
        "    x = Conv2D(filters=1, kernel_size=kernel_sizes[-1], activation=\"sigmoid\", padding=\"same\")(x)\n",
        "\n",
        "    # create the decoder part and return it\n",
        "    decoder = Model(input, x, name=\"decoder\")\n",
        "    return decoder\n",
        "\n",
        "\n",
        "def create_autoencoder(rows, columns, encoder, decoder):\n",
        "    \"\"\"\n",
        "    Function that given the encoder part and the decoder part of an autoencoder, creates a \"Model\"\n",
        "    (Keras object) that represents an autoencoder.\n",
        "    \"\"\"\n",
        "\n",
        "    # define the input\n",
        "    input = Input(shape=(rows, columns, 1))\n",
        "\n",
        "    # pass the input through the encoder\n",
        "    x = encoder(input)\n",
        "\n",
        "    # pass then the result through the decoder\n",
        "    x = decoder(x)\n",
        "\n",
        "    # create the model and return it\n",
        "    autoencoder = Model(input, x, name=\"autoencoder\")\n",
        "    return autoencoder"
      ],
      "execution_count": null,
      "outputs": []
    },
    {
      "cell_type": "markdown",
      "metadata": {
        "id": "P2f9IFaj4BXs"
      },
      "source": [
        "## Loop for each configuration"
      ]
    },
    {
      "cell_type": "code",
      "metadata": {
        "id": "soKQ00BzJcGQ"
      },
      "source": [
        "histories = []\n",
        "encoders = []"
      ],
      "execution_count": null,
      "outputs": []
    },
    {
      "cell_type": "code",
      "metadata": {
        "colab": {
          "base_uri": "https://localhost:8080/"
        },
        "id": "94ju0ukn4Cu1",
        "outputId": "61c656c4-5fe5-4110-8b13-c5fb978fbf7e"
      },
      "source": [
        "for conf in configurations:\n",
        "\n",
        "  # get the current configuration\n",
        "  conv_layers, kernel_sizes, filters, epochs, batch_size, third_maxpool = conf  \n",
        "\n",
        "  # get the encoder and the decoder\n",
        "  encoder = create_encoder(rows, columns, conv_layers, kernel_sizes, filters,\n",
        "                           use_third_max_pooling=third_maxpool,\n",
        "                           use_leaky_relu=True, leaky_relu_alpha=0.15)\n",
        "  decoder = create_decoder(rows, columns, conv_layers, kernel_sizes, filters,\n",
        "                           use_third_max_pooling=third_maxpool,\n",
        "                           use_leaky_relu=True, leaky_relu_alpha=0.15)\n",
        "\n",
        "  # get the autoencoder\n",
        "  autoencoder = create_autoencoder(rows, columns, encoder, decoder)\n",
        "  print()\n",
        "  autoencoder.summary()\n",
        "\n",
        "  # add a callback to reduce learning rate when validation loss plateaus\n",
        "  reduce_lr = ReduceLROnPlateau(monitor=\"val_loss\", factor=1.0/2, patience=4, min_delta=0.005,\n",
        "                                cooldown=0, min_lr=1e-8, verbose=1)\n",
        "  \n",
        "  # compile and train the autoencoder\n",
        "  autoencoder.compile(optimizer=optimizers.Adam(1e-3), loss=\"mse\", metrics=[\"mse\"])\n",
        "  history = autoencoder.fit(X_train, X_train, batch_size=batch_size, epochs=epochs,\n",
        "                            shuffle=True, validation_data=(X_val, X_val), callbacks=[reduce_lr])\n",
        "  \n",
        "  # save the history\n",
        "  histories.append(history)\n",
        "  encoders.append(encoder)"
      ],
      "execution_count": null,
      "outputs": [
        {
          "output_type": "stream",
          "text": [
            "\n",
            "Model: \"autoencoder\"\n",
            "_________________________________________________________________\n",
            "Layer (type)                 Output Shape              Param #   \n",
            "=================================================================\n",
            "input_9 (InputLayer)         [(None, 28, 28, 1)]       0         \n",
            "_________________________________________________________________\n",
            "encoder (Functional)         (None, 1, 1, 4)           107188    \n",
            "_________________________________________________________________\n",
            "decoder (Functional)         (None, 28, 28, 1)         1361      \n",
            "=================================================================\n",
            "Total params: 108,549\n",
            "Trainable params: 108,325\n",
            "Non-trainable params: 224\n",
            "_________________________________________________________________\n",
            "Epoch 1/15\n",
            "3188/3188 [==============================] - 18s 5ms/step - loss: 0.0859 - mse: 0.0859 - val_loss: 0.0560 - val_mse: 0.0560\n",
            "Epoch 2/15\n",
            "3188/3188 [==============================] - 17s 5ms/step - loss: 0.0533 - mse: 0.0533 - val_loss: 0.0558 - val_mse: 0.0558\n",
            "Epoch 3/15\n",
            "3188/3188 [==============================] - 17s 5ms/step - loss: 0.0495 - mse: 0.0495 - val_loss: 0.0480 - val_mse: 0.0480\n",
            "Epoch 4/15\n",
            "3188/3188 [==============================] - 17s 5ms/step - loss: 0.0476 - mse: 0.0476 - val_loss: 0.0449 - val_mse: 0.0449\n",
            "Epoch 5/15\n",
            "3188/3188 [==============================] - 17s 5ms/step - loss: 0.0466 - mse: 0.0466 - val_loss: 0.0435 - val_mse: 0.0435\n",
            "Epoch 6/15\n",
            "3188/3188 [==============================] - 17s 5ms/step - loss: 0.0459 - mse: 0.0459 - val_loss: 0.0439 - val_mse: 0.0439\n",
            "Epoch 7/15\n",
            "3188/3188 [==============================] - 18s 5ms/step - loss: 0.0454 - mse: 0.0454 - val_loss: 0.0465 - val_mse: 0.0465\n",
            "\n",
            "Epoch 00007: ReduceLROnPlateau reducing learning rate to 0.0005000000237487257.\n",
            "Epoch 8/15\n",
            "3188/3188 [==============================] - 17s 5ms/step - loss: 0.0445 - mse: 0.0445 - val_loss: 0.0419 - val_mse: 0.0419\n",
            "Epoch 9/15\n",
            "3188/3188 [==============================] - 17s 5ms/step - loss: 0.0444 - mse: 0.0444 - val_loss: 0.0419 - val_mse: 0.0419\n",
            "Epoch 10/15\n",
            "3188/3188 [==============================] - 17s 5ms/step - loss: 0.0442 - mse: 0.0442 - val_loss: 0.0434 - val_mse: 0.0434\n",
            "Epoch 11/15\n",
            "3188/3188 [==============================] - 17s 5ms/step - loss: 0.0441 - mse: 0.0441 - val_loss: 0.0434 - val_mse: 0.0434\n",
            "Epoch 12/15\n",
            "3188/3188 [==============================] - 17s 5ms/step - loss: 0.0440 - mse: 0.0440 - val_loss: 0.0414 - val_mse: 0.0414\n",
            "\n",
            "Epoch 00012: ReduceLROnPlateau reducing learning rate to 0.0002500000118743628.\n",
            "Epoch 13/15\n",
            "3188/3188 [==============================] - 17s 5ms/step - loss: 0.0434 - mse: 0.0434 - val_loss: 0.0406 - val_mse: 0.0406\n",
            "Epoch 14/15\n",
            "3188/3188 [==============================] - 17s 5ms/step - loss: 0.0433 - mse: 0.0433 - val_loss: 0.0431 - val_mse: 0.0431\n",
            "Epoch 15/15\n",
            "3188/3188 [==============================] - 17s 5ms/step - loss: 0.0434 - mse: 0.0434 - val_loss: 0.0404 - val_mse: 0.0404\n",
            "\n",
            "Model: \"autoencoder\"\n",
            "_________________________________________________________________\n",
            "Layer (type)                 Output Shape              Param #   \n",
            "=================================================================\n",
            "input_12 (InputLayer)        [(None, 28, 28, 1)]       0         \n",
            "_________________________________________________________________\n",
            "encoder (Functional)         (None, 1, 1, 2)           105578    \n",
            "_________________________________________________________________\n",
            "decoder (Functional)         (None, 28, 28, 1)         381       \n",
            "=================================================================\n",
            "Total params: 105,959\n",
            "Trainable params: 105,751\n",
            "Non-trainable params: 208\n",
            "_________________________________________________________________\n",
            "Epoch 1/15\n",
            "3188/3188 [==============================] - 19s 6ms/step - loss: 0.0957 - mse: 0.0957 - val_loss: 0.0621 - val_mse: 0.0621\n",
            "Epoch 2/15\n",
            "3188/3188 [==============================] - 17s 5ms/step - loss: 0.0618 - mse: 0.0618 - val_loss: 0.0596 - val_mse: 0.0596\n",
            "Epoch 3/15\n",
            "3188/3188 [==============================] - 17s 5ms/step - loss: 0.0604 - mse: 0.0604 - val_loss: 0.0588 - val_mse: 0.0588\n",
            "Epoch 4/15\n",
            "3188/3188 [==============================] - 17s 5ms/step - loss: 0.0595 - mse: 0.0595 - val_loss: 0.0576 - val_mse: 0.0576\n",
            "Epoch 5/15\n",
            "3188/3188 [==============================] - 17s 5ms/step - loss: 0.0589 - mse: 0.0589 - val_loss: 0.0576 - val_mse: 0.0576\n",
            "\n",
            "Epoch 00005: ReduceLROnPlateau reducing learning rate to 0.0005000000237487257.\n",
            "Epoch 6/15\n",
            "3188/3188 [==============================] - 17s 5ms/step - loss: 0.0580 - mse: 0.0580 - val_loss: 0.0568 - val_mse: 0.0568\n",
            "Epoch 7/15\n",
            "3188/3188 [==============================] - 17s 5ms/step - loss: 0.0577 - mse: 0.0577 - val_loss: 0.0569 - val_mse: 0.0569\n",
            "Epoch 8/15\n",
            "3188/3188 [==============================] - 17s 5ms/step - loss: 0.0575 - mse: 0.0575 - val_loss: 0.0567 - val_mse: 0.0567\n",
            "Epoch 9/15\n",
            "3188/3188 [==============================] - 17s 5ms/step - loss: 0.0574 - mse: 0.0574 - val_loss: 0.0564 - val_mse: 0.0564\n",
            "Epoch 10/15\n",
            "3188/3188 [==============================] - 17s 5ms/step - loss: 0.0571 - mse: 0.0571 - val_loss: 0.0563 - val_mse: 0.0563\n",
            "\n",
            "Epoch 00010: ReduceLROnPlateau reducing learning rate to 0.0002500000118743628.\n",
            "Epoch 11/15\n",
            "3188/3188 [==============================] - 17s 5ms/step - loss: 0.0568 - mse: 0.0568 - val_loss: 0.0565 - val_mse: 0.0565\n",
            "Epoch 12/15\n",
            "3188/3188 [==============================] - 17s 5ms/step - loss: 0.0569 - mse: 0.0569 - val_loss: 0.0569 - val_mse: 0.0569\n",
            "Epoch 13/15\n",
            "3188/3188 [==============================] - 17s 5ms/step - loss: 0.0569 - mse: 0.0569 - val_loss: 0.0562 - val_mse: 0.0562\n",
            "Epoch 14/15\n",
            "3188/3188 [==============================] - 17s 5ms/step - loss: 0.0568 - mse: 0.0568 - val_loss: 0.0558 - val_mse: 0.0558\n",
            "\n",
            "Epoch 00014: ReduceLROnPlateau reducing learning rate to 0.0001250000059371814.\n",
            "Epoch 15/15\n",
            "3188/3188 [==============================] - 17s 5ms/step - loss: 0.0565 - mse: 0.0565 - val_loss: 0.0557 - val_mse: 0.0557\n",
            "\n",
            "Model: \"autoencoder\"\n",
            "_________________________________________________________________\n",
            "Layer (type)                 Output Shape              Param #   \n",
            "=================================================================\n",
            "input_15 (InputLayer)        [(None, 28, 28, 1)]       0         \n",
            "_________________________________________________________________\n",
            "encoder (Functional)         (None, 1, 1, 8)           216680    \n",
            "_________________________________________________________________\n",
            "decoder (Functional)         (None, 28, 28, 1)         1921      \n",
            "=================================================================\n",
            "Total params: 218,601\n",
            "Trainable params: 218,153\n",
            "Non-trainable params: 448\n",
            "_________________________________________________________________\n",
            "Epoch 1/15\n",
            "3188/3188 [==============================] - 21s 6ms/step - loss: 0.0862 - mse: 0.0862 - val_loss: 0.0640 - val_mse: 0.0640\n",
            "Epoch 2/15\n",
            "3188/3188 [==============================] - 20s 6ms/step - loss: 0.0635 - mse: 0.0635 - val_loss: 0.0633 - val_mse: 0.0633\n",
            "Epoch 3/15\n",
            "3188/3188 [==============================] - 20s 6ms/step - loss: 0.0628 - mse: 0.0628 - val_loss: 0.0622 - val_mse: 0.0622\n",
            "Epoch 4/15\n",
            "3188/3188 [==============================] - 20s 6ms/step - loss: 0.0625 - mse: 0.0625 - val_loss: 0.0619 - val_mse: 0.0619\n",
            "Epoch 5/15\n",
            "3188/3188 [==============================] - 20s 6ms/step - loss: 0.0622 - mse: 0.0622 - val_loss: 0.0622 - val_mse: 0.0622\n",
            "\n",
            "Epoch 00005: ReduceLROnPlateau reducing learning rate to 0.0005000000237487257.\n",
            "Epoch 6/15\n",
            "3188/3188 [==============================] - 20s 6ms/step - loss: 0.0619 - mse: 0.0619 - val_loss: 0.0616 - val_mse: 0.0616\n",
            "Epoch 7/15\n",
            "3188/3188 [==============================] - 20s 6ms/step - loss: 0.0619 - mse: 0.0619 - val_loss: 0.0616 - val_mse: 0.0616\n",
            "Epoch 8/15\n",
            "3188/3188 [==============================] - 20s 6ms/step - loss: 0.0618 - mse: 0.0618 - val_loss: 0.0617 - val_mse: 0.0617\n",
            "Epoch 9/15\n",
            "3188/3188 [==============================] - 20s 6ms/step - loss: 0.0618 - mse: 0.0618 - val_loss: 0.0617 - val_mse: 0.0617\n",
            "\n",
            "Epoch 00009: ReduceLROnPlateau reducing learning rate to 0.0002500000118743628.\n",
            "Epoch 10/15\n",
            "3188/3188 [==============================] - 20s 6ms/step - loss: 0.0617 - mse: 0.0617 - val_loss: 0.0617 - val_mse: 0.0617\n",
            "Epoch 11/15\n",
            "3188/3188 [==============================] - 20s 6ms/step - loss: 0.0617 - mse: 0.0617 - val_loss: 0.0615 - val_mse: 0.0615\n",
            "Epoch 12/15\n",
            "3188/3188 [==============================] - 20s 6ms/step - loss: 0.0617 - mse: 0.0617 - val_loss: 0.0617 - val_mse: 0.0617\n",
            "Epoch 13/15\n",
            "3188/3188 [==============================] - 20s 6ms/step - loss: 0.0616 - mse: 0.0616 - val_loss: 0.0615 - val_mse: 0.0615\n",
            "\n",
            "Epoch 00013: ReduceLROnPlateau reducing learning rate to 0.0001250000059371814.\n",
            "Epoch 14/15\n",
            "3188/3188 [==============================] - 20s 6ms/step - loss: 0.0616 - mse: 0.0616 - val_loss: 0.0613 - val_mse: 0.0613\n",
            "Epoch 15/15\n",
            "3188/3188 [==============================] - 20s 6ms/step - loss: 0.0616 - mse: 0.0616 - val_loss: 0.0614 - val_mse: 0.0614\n",
            "\n",
            "Model: \"autoencoder\"\n",
            "_________________________________________________________________\n",
            "Layer (type)                 Output Shape              Param #   \n",
            "=================================================================\n",
            "input_18 (InputLayer)        [(None, 28, 28, 1)]       0         \n",
            "_________________________________________________________________\n",
            "encoder (Functional)         (None, 1, 1, 10)          192230    \n",
            "_________________________________________________________________\n",
            "decoder (Functional)         (None, 28, 28, 1)         2941      \n",
            "=================================================================\n",
            "Total params: 195,171\n",
            "Trainable params: 194,731\n",
            "Non-trainable params: 440\n",
            "_________________________________________________________________\n",
            "Epoch 1/15\n",
            "3188/3188 [==============================] - 20s 6ms/step - loss: 0.0880 - mse: 0.0880 - val_loss: 0.0639 - val_mse: 0.0639\n",
            "Epoch 2/15\n",
            "3188/3188 [==============================] - 19s 6ms/step - loss: 0.0639 - mse: 0.0639 - val_loss: 0.0629 - val_mse: 0.0629\n",
            "Epoch 3/15\n",
            "3188/3188 [==============================] - 19s 6ms/step - loss: 0.0629 - mse: 0.0629 - val_loss: 0.0623 - val_mse: 0.0623\n",
            "Epoch 4/15\n",
            "3188/3188 [==============================] - 20s 6ms/step - loss: 0.0625 - mse: 0.0625 - val_loss: 0.0618 - val_mse: 0.0618\n",
            "Epoch 5/15\n",
            "3188/3188 [==============================] - 19s 6ms/step - loss: 0.0622 - mse: 0.0622 - val_loss: 0.0620 - val_mse: 0.0620\n",
            "\n",
            "Epoch 00005: ReduceLROnPlateau reducing learning rate to 0.0005000000237487257.\n",
            "Epoch 6/15\n",
            "3188/3188 [==============================] - 19s 6ms/step - loss: 0.0620 - mse: 0.0620 - val_loss: 0.0616 - val_mse: 0.0616\n",
            "Epoch 7/15\n",
            "3188/3188 [==============================] - 19s 6ms/step - loss: 0.0619 - mse: 0.0619 - val_loss: 0.0621 - val_mse: 0.0621\n",
            "Epoch 8/15\n",
            "3188/3188 [==============================] - 19s 6ms/step - loss: 0.0617 - mse: 0.0617 - val_loss: 0.0613 - val_mse: 0.0613\n",
            "Epoch 9/15\n",
            "3188/3188 [==============================] - 19s 6ms/step - loss: 0.0616 - mse: 0.0616 - val_loss: 0.0613 - val_mse: 0.0613\n",
            "\n",
            "Epoch 00009: ReduceLROnPlateau reducing learning rate to 0.0002500000118743628.\n",
            "Epoch 10/15\n",
            "3188/3188 [==============================] - 19s 6ms/step - loss: 0.0614 - mse: 0.0614 - val_loss: 0.0612 - val_mse: 0.0612\n",
            "Epoch 11/15\n",
            "3188/3188 [==============================] - 19s 6ms/step - loss: 0.0613 - mse: 0.0613 - val_loss: 0.0612 - val_mse: 0.0612\n",
            "Epoch 12/15\n",
            "3188/3188 [==============================] - 19s 6ms/step - loss: 0.0613 - mse: 0.0613 - val_loss: 0.0610 - val_mse: 0.0610\n",
            "Epoch 13/15\n",
            "3188/3188 [==============================] - 19s 6ms/step - loss: 0.0613 - mse: 0.0613 - val_loss: 0.0611 - val_mse: 0.0611\n",
            "\n",
            "Epoch 00013: ReduceLROnPlateau reducing learning rate to 0.0001250000059371814.\n",
            "Epoch 14/15\n",
            "3188/3188 [==============================] - 19s 6ms/step - loss: 0.0612 - mse: 0.0612 - val_loss: 0.0609 - val_mse: 0.0609\n",
            "Epoch 15/15\n",
            "3188/3188 [==============================] - 19s 6ms/step - loss: 0.0612 - mse: 0.0612 - val_loss: 0.0609 - val_mse: 0.0609\n"
          ],
          "name": "stdout"
        }
      ]
    },
    {
      "cell_type": "code",
      "metadata": {
        "id": "UaBKpqsGhRL1"
      },
      "source": [
        "from tensorflow.keras.models import save_model\n",
        "\n",
        "for i in range(len(encoders)):\n",
        "  encoder_path = os.path.join(\".\", \"drive\", \"My Drive\", \"Uni\", \"Project\", (\"encoder{}.h5\").format(i+1))\n",
        "  save_model(encoders[i], encoder_path)"
      ],
      "execution_count": null,
      "outputs": []
    },
    {
      "cell_type": "markdown",
      "metadata": {
        "id": "AUeAbK0N4-If"
      },
      "source": [
        "## for plotting"
      ]
    },
    {
      "cell_type": "code",
      "metadata": {
        "id": "FuMakLa-4__F"
      },
      "source": [
        "def show_experiment_graph(history):\n",
        "    \"\"\" Function used to show the Loss vs Epochs graph of one experiment \"\"\"\n",
        "\n",
        "    # get the losses\n",
        "    train_losses = history.history[\"mse\"]\n",
        "    val_losses = history.history[\"val_mse\"]\n",
        "\n",
        "    # fix the parameters of the plot\n",
        "    plt.figure(figsize=(20, 10))\n",
        "\n",
        "    # plot the losses\n",
        "    epochs = len(train_losses)\n",
        "    plt.xticks(np.arange(0, epochs, 1), np.arange(1, epochs + 1, 1))\n",
        "    plt.plot(train_losses, label=\"Train Loss\", color=\"mediumblue\")\n",
        "    plt.plot(val_losses, label=\"Validation Loss\", color=\"darkred\")\n",
        "\n",
        "    # define some more parameters\n",
        "    plt.xlabel(\"Epochs\")\n",
        "    plt.ylabel(\"Loss\")\n",
        "    plt.legend()\n",
        "\n",
        "    # save the figure to download it for the experimental analysis\n",
        "    plt.savefig(\"./loss_vs_epochs.png\", bbox_inches=\"tight\")\n",
        "\n",
        "    # show the graph\n",
        "    plt.show()\n",
        "\n",
        "\n",
        "def show_graphs(histories, configurations):\n",
        "    \"\"\" Function used to plot the losses of a model, for each configuration (experiment) tried \"\"\"\n",
        "\n",
        "    # get the number of experiments performed\n",
        "    experiments = len(histories)\n",
        "\n",
        "    # get the last losses of each experiment\n",
        "    train_losses = [history.history[\"mse\"][-1] for history in histories]\n",
        "    val_losses = [history.history[\"val_mse\"][-1] for history in histories]\n",
        "\n",
        "    # now fix the x labels to match every experiment\n",
        "    xlabels = []\n",
        "    # add a label for each configuration\n",
        "    for configuration in configurations:\n",
        "        # get the values for that configuration\n",
        "        conv_layers, kernel_sizes, filters, epochs, batch_size, third_maxpool = configuration\n",
        "        # define the string and append it\n",
        "        xlabel = \"Conv Layers: {}\\nKernels: {}\\nFilters: {}\\nEpochs: {}\\nBatch Size: {}\\n\" \\\n",
        "                 \"Third MaxPool: {}\".format(conv_layers, kernel_sizes, filters, epochs, batch_size,\n",
        "                                            third_maxpool)\n",
        "        xlabels.append(xlabel)\n",
        "\n",
        "    # define the parameters of the plot\n",
        "    plt.figure(figsize=(20, 10))\n",
        "    plt.xticks(np.arange(experiments), xlabels)\n",
        "\n",
        "    # plot the losses\n",
        "    plt.plot(train_losses, label=\"Train Loss\", color=\"mediumblue\")\n",
        "    plt.plot(val_losses, label=\"Validation Loss\", color=\"darkred\")\n",
        "\n",
        "    # define some more parameters\n",
        "    plt.xlabel(\"Runs\")\n",
        "    plt.ylabel(\"Losses\")\n",
        "    plt.legend()\n",
        "\n",
        "    # save the figure to download it for the experimental analysis\n",
        "    plt.savefig(\"./third_maxpool.png\", bbox_inches=\"tight\")\n",
        "\n",
        "    # show it\n",
        "    plt.show()"
      ],
      "execution_count": null,
      "outputs": []
    },
    {
      "cell_type": "markdown",
      "metadata": {
        "id": "3N_0IRap823d"
      },
      "source": [
        "## make a prediction of an image and print it\n"
      ]
    },
    {
      "cell_type": "code",
      "metadata": {
        "colab": {
          "base_uri": "https://localhost:8080/",
          "height": 653
        },
        "id": "uQIo9oSh81_5",
        "outputId": "53faefaf-8f19-4c41-b0c3-3f51ed509418"
      },
      "source": [
        "show_graphs(histories, configurations)"
      ],
      "execution_count": null,
      "outputs": [
        {
          "output_type": "display_data",
          "data": {
            "image/png": "[encoded data removed]",
            "text/plain": [
              "<Figure size 1440x720 with 1 Axes>"
            ]
          },
          "metadata": {
            "tags": [],
            "needs_background": "light"
          }
        }
      ]
    },
    {
      "cell_type": "code",
      "metadata": {
        "id": "RTyBiAy7ne6X"
      },
      "source": [
        ""
      ],
      "execution_count": null,
      "outputs": []
    }
  ]
}